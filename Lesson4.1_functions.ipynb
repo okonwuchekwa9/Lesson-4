{
 "cells": [
  {
   "cell_type": "markdown",
   "metadata": {},
   "source": [
    "## Functions"
   ]
  },
  {
   "cell_type": "markdown",
   "metadata": {},
   "source": [
    "#### A function is a block of reusable code to perform certain tasks. Functions should do single tasks. Try to make the code reusable without repeating yourself."
   ]
  },
  {
   "cell_type": "markdown",
   "metadata": {},
   "source": [
    "#### My first function"
   ]
  },
  {
   "cell_type": "code",
   "execution_count": 1,
   "metadata": {},
   "outputs": [],
   "source": [
    "def celsius_to_fahr(temp):\n",
    "    #def is definition keyword, celsius_to_fahr is function name, temp is parameter to be defined, in return statement, temp is the return value\n",
    "    return 9/5 * temp + 32"
   ]
  },
  {
   "cell_type": "code",
   "execution_count": 6,
   "metadata": {},
   "outputs": [
    {
     "name": "stdout",
     "output_type": "stream",
     "text": [
      "the freezing_point of water in Fahrenheit is: 32.0\n"
     ]
    }
   ],
   "source": [
    "freezing_point = celsius_to_fahr(0)\n",
    "print('the freezing_point of water in Fahrenheit is:', freezing_point)"
   ]
  },
  {
   "cell_type": "code",
   "execution_count": 8,
   "metadata": {},
   "outputs": [
    {
     "name": "stdout",
     "output_type": "stream",
     "text": [
      "The boiling point of water in Fahrenheit is: 212.0\n"
     ]
    }
   ],
   "source": [
    "print('The boiling point of water in Fahrenheit is:', celsius_to_fahr(100))"
   ]
  },
  {
   "cell_type": "markdown",
   "metadata": {},
   "source": [
    "#### Lets make another function"
   ]
  },
  {
   "cell_type": "code",
   "execution_count": 28,
   "metadata": {},
   "outputs": [],
   "source": [
    "def kelvins_to_celsius(temp_kelvins=0):\n",
    "    return temp_kelvins - 273.15"
   ]
  },
  {
   "cell_type": "code",
   "execution_count": 29,
   "metadata": {},
   "outputs": [],
   "source": [
    "absolute_zero = kelvins_to_celsius(temp_kelvins = 0)"
   ]
  },
  {
   "cell_type": "code",
   "execution_count": 30,
   "metadata": {},
   "outputs": [
    {
     "name": "stdout",
     "output_type": "stream",
     "text": [
      "Aboslute zero in degree celsius is -273.15\n"
     ]
    }
   ],
   "source": [
    "print('Aboslute zero in degree celsius is', absolute_zero)"
   ]
  },
  {
   "cell_type": "markdown",
   "metadata": {},
   "source": [
    "#### We must not include value to temp_kelvins = 0 for absolute zero value because default value is zero."
   ]
  },
  {
   "cell_type": "code",
   "execution_count": 13,
   "metadata": {},
   "outputs": [
    {
     "name": "stdout",
     "output_type": "stream",
     "text": [
      "Aboslute zero in degree celsius is -273.15\n"
     ]
    }
   ],
   "source": [
    "absolute_zero = kelvin_to_celsius()\n",
    "print('Aboslute zero in degree celsius is', absolute_zero)"
   ]
  },
  {
   "cell_type": "code",
   "execution_count": 26,
   "metadata": {},
   "outputs": [],
   "source": [
    "def hello(name, age):\n",
    "    return 'Hello, my name is ' + name + '. I am ' + str(age) + ' years old.'"
   ]
  },
  {
   "cell_type": "code",
   "execution_count": 27,
   "metadata": {},
   "outputs": [
    {
     "name": "stdout",
     "output_type": "stream",
     "text": [
      "Hello, my name is Peter. I am 32 years old.\n"
     ]
    }
   ],
   "source": [
    "output = hello('Peter',32)\n",
    "print(output)"
   ]
  },
  {
   "cell_type": "markdown",
   "metadata": {},
   "source": [
    "#### Functions with a function"
   ]
  },
  {
   "cell_type": "code",
   "execution_count": 31,
   "metadata": {},
   "outputs": [],
   "source": [
    "def kelvins_to_fahr(temp_kelvins):\n",
    "    temp_celsius = kelvins_to_celsius(temp_kelvins)\n",
    "    temp_fahr = celsius_to_fahr(temp_celsius)\n",
    "    return temp_fahr"
   ]
  },
  {
   "cell_type": "code",
   "execution_count": 32,
   "metadata": {},
   "outputs": [],
   "source": [
    "absolute_zero_fahr = kelvins_to_fahr(0)"
   ]
  },
  {
   "cell_type": "code",
   "execution_count": 34,
   "metadata": {},
   "outputs": [
    {
     "name": "stdout",
     "output_type": "stream",
     "text": [
      "The Absolute zero in degrees Fahrenheit is -459.66999999999996\n"
     ]
    }
   ],
   "source": [
    "print('The Absolute zero in degrees Fahrenheit is', absolute_zero_fahr)"
   ]
  },
  {
   "cell_type": "code",
   "execution_count": null,
   "metadata": {},
   "outputs": [],
   "source": []
  }
 ],
 "metadata": {
  "kernelspec": {
   "display_name": "Python 3",
   "language": "python",
   "name": "python3"
  },
  "language_info": {
   "codemirror_mode": {
    "name": "ipython",
    "version": 3
   },
   "file_extension": ".py",
   "mimetype": "text/x-python",
   "name": "python",
   "nbconvert_exporter": "python",
   "pygments_lexer": "ipython3",
   "version": "3.8.3"
  }
 },
 "nbformat": 4,
 "nbformat_minor": 4
}
